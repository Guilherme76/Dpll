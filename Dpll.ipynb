{
  "nbformat": 4,
  "nbformat_minor": 0,
  "metadata": {
    "colab": {
      "provenance": []
    },
    "kernelspec": {
      "name": "python3",
      "display_name": "Python 3"
    },
    "language_info": {
      "name": "python"
    }
  },
  "cells": [
    {
      "cell_type": "code",
      "execution_count": 11,
      "metadata": {
        "colab": {
          "base_uri": "https://localhost:8080/"
        },
        "id": "z9XzXMoHS-8_",
        "outputId": "2f789cc9-e587-4085-88f4-eed2fc3df844"
      },
      "outputs": [
        {
          "output_type": "stream",
          "name": "stdout",
          "text": [
            "Satisfatível\n"
          ]
        }
      ],
      "source": [
        "def ler_arquivo_cnf(nome_arquivo):\n",
        "    clausulas = []\n",
        "    with open(nome_arquivo, 'r') as arquivo:\n",
        "        for linha in arquivo:\n",
        "            linha = linha.strip()\n",
        "            if linha and not linha.startswith(('c', 'p')):\n",
        "                clausula = []\n",
        "                for literal in linha.split():\n",
        "                    clausula.append(int(literal))\n",
        "                clausulas.append(clausula)\n",
        "    return clausulas\n",
        "\n",
        "def simplifica(clausulas, atribuicao):\n",
        "    nova_clausulas = []\n",
        "    for clausula in clausulas:\n",
        "        nova_clausula = []\n",
        "        simplificada = False\n",
        "        for literal in clausula:\n",
        "            if literal in atribuicao:\n",
        "                if atribuicao[literal]:\n",
        "                    simplificada = True\n",
        "                    break\n",
        "            else:\n",
        "                nova_clausula.append(literal)\n",
        "\n",
        "        if not simplificada:\n",
        "            nova_clausulas.append(nova_clausula)\n",
        "\n",
        "    return nova_clausulas\n",
        "\n",
        "def dpll_satisfativel(clausulas, atribuicao):\n",
        "    if len(clausulas) == 0:\n",
        "        return True\n",
        "\n",
        "    literal = clausulas[0][0]\n",
        "\n",
        "    nova_clausulas_positivas = simplifica(clausulas, {literal: True})\n",
        "    if dpll_satisfativel(nova_clausulas_positivas, atribuicao):\n",
        "        return True\n",
        "\n",
        "    nova_clausulas_negativas = simplifica(clausulas, {literal: False})\n",
        "    return dpll_satisfativel(nova_clausulas_negativas, atribuicao)\n",
        "\n",
        "def main():\n",
        "    nome_arquivo = '/teste.txt'\n",
        "    clausulas = ler_arquivo_cnf(nome_arquivo)\n",
        "    atribuicao = {}\n",
        "    if dpll_satisfativel(clausulas, atribuicao):\n",
        "        print(\"Satisfatível\")\n",
        "    else:\n",
        "        print(\"Insatisfatível\")\n",
        "\n",
        "if __name__ == \"__main__\":\n",
        "    main()\n"
      ]
    }
  ]
}